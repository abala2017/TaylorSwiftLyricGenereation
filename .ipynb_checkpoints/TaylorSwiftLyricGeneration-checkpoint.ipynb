{
 "cells": [
  {
   "cell_type": "markdown",
   "metadata": {},
   "source": [
    "# Taylor Swift Lyric Generation"
   ]
  },
  {
   "cell_type": "code",
   "execution_count": 135,
   "metadata": {},
   "outputs": [],
   "source": [
    "import numpy as np\n",
    "import tensorflow as tf\n",
    "import pandas as pd\n",
    "from keras.preprocessing.text import Tokenizer\n",
    "import re\n",
    "import matplotlib.pyplot as plt\n",
    "from collections import Counter"
   ]
  },
  {
   "cell_type": "markdown",
   "metadata": {},
   "source": [
    "## Importing the data"
   ]
  },
  {
   "cell_type": "code",
   "execution_count": 77,
   "metadata": {},
   "outputs": [
    {
     "data": {
      "text/html": [
       "<div>\n",
       "<style scoped>\n",
       "    .dataframe tbody tr th:only-of-type {\n",
       "        vertical-align: middle;\n",
       "    }\n",
       "\n",
       "    .dataframe tbody tr th {\n",
       "        vertical-align: top;\n",
       "    }\n",
       "\n",
       "    .dataframe thead th {\n",
       "        text-align: right;\n",
       "    }\n",
       "</style>\n",
       "<table border=\"1\" class=\"dataframe\">\n",
       "  <thead>\n",
       "    <tr style=\"text-align: right;\">\n",
       "      <th></th>\n",
       "      <th>Artist</th>\n",
       "      <th>Album</th>\n",
       "      <th>Song</th>\n",
       "      <th>Track_Number</th>\n",
       "      <th>Lyrics</th>\n",
       "      <th>Line_Number</th>\n",
       "      <th>Year</th>\n",
       "    </tr>\n",
       "  </thead>\n",
       "  <tbody>\n",
       "    <tr>\n",
       "      <th>0</th>\n",
       "      <td>Taylor Swift</td>\n",
       "      <td>Taylor Swift</td>\n",
       "      <td>Tim McGraw</td>\n",
       "      <td>1</td>\n",
       "      <td>He said the way my blue eyes shined</td>\n",
       "      <td>1</td>\n",
       "      <td>2006</td>\n",
       "    </tr>\n",
       "    <tr>\n",
       "      <th>1</th>\n",
       "      <td>Taylor Swift</td>\n",
       "      <td>Taylor Swift</td>\n",
       "      <td>Tim McGraw</td>\n",
       "      <td>1</td>\n",
       "      <td>Put those Georgia stars to shame that night</td>\n",
       "      <td>2</td>\n",
       "      <td>2006</td>\n",
       "    </tr>\n",
       "    <tr>\n",
       "      <th>2</th>\n",
       "      <td>Taylor Swift</td>\n",
       "      <td>Taylor Swift</td>\n",
       "      <td>Tim McGraw</td>\n",
       "      <td>1</td>\n",
       "      <td>I said, \"That's a lie\"</td>\n",
       "      <td>3</td>\n",
       "      <td>2006</td>\n",
       "    </tr>\n",
       "    <tr>\n",
       "      <th>3</th>\n",
       "      <td>Taylor Swift</td>\n",
       "      <td>Taylor Swift</td>\n",
       "      <td>Tim McGraw</td>\n",
       "      <td>1</td>\n",
       "      <td>Just a boy in a Chevy truck</td>\n",
       "      <td>4</td>\n",
       "      <td>2006</td>\n",
       "    </tr>\n",
       "    <tr>\n",
       "      <th>4</th>\n",
       "      <td>Taylor Swift</td>\n",
       "      <td>Taylor Swift</td>\n",
       "      <td>Tim McGraw</td>\n",
       "      <td>1</td>\n",
       "      <td>That had a tendency of gettin' stuck</td>\n",
       "      <td>5</td>\n",
       "      <td>2006</td>\n",
       "    </tr>\n",
       "    <tr>\n",
       "      <th>...</th>\n",
       "      <td>...</td>\n",
       "      <td>...</td>\n",
       "      <td>...</td>\n",
       "      <td>...</td>\n",
       "      <td>...</td>\n",
       "      <td>...</td>\n",
       "      <td>...</td>\n",
       "    </tr>\n",
       "    <tr>\n",
       "      <th>4857</th>\n",
       "      <td>Taylor Swift</td>\n",
       "      <td>reputation</td>\n",
       "      <td>New Year's Day</td>\n",
       "      <td>15</td>\n",
       "      <td>(Hold on to the memories, they will hold on to...</td>\n",
       "      <td>43</td>\n",
       "      <td>2017</td>\n",
       "    </tr>\n",
       "    <tr>\n",
       "      <th>4858</th>\n",
       "      <td>Taylor Swift</td>\n",
       "      <td>reputation</td>\n",
       "      <td>New Year's Day</td>\n",
       "      <td>15</td>\n",
       "      <td>Please don't ever become a stranger</td>\n",
       "      <td>44</td>\n",
       "      <td>2017</td>\n",
       "    </tr>\n",
       "    <tr>\n",
       "      <th>4859</th>\n",
       "      <td>Taylor Swift</td>\n",
       "      <td>reputation</td>\n",
       "      <td>New Year's Day</td>\n",
       "      <td>15</td>\n",
       "      <td>(Hold on to the memories, they will hold on to...</td>\n",
       "      <td>45</td>\n",
       "      <td>2017</td>\n",
       "    </tr>\n",
       "    <tr>\n",
       "      <th>4860</th>\n",
       "      <td>Taylor Swift</td>\n",
       "      <td>reputation</td>\n",
       "      <td>New Year's Day</td>\n",
       "      <td>15</td>\n",
       "      <td>Whose laugh I could recognize anywhere</td>\n",
       "      <td>46</td>\n",
       "      <td>2017</td>\n",
       "    </tr>\n",
       "    <tr>\n",
       "      <th>4861</th>\n",
       "      <td>Taylor Swift</td>\n",
       "      <td>reputation</td>\n",
       "      <td>New Year's Day</td>\n",
       "      <td>15</td>\n",
       "      <td>(I will hold on to you)</td>\n",
       "      <td>47</td>\n",
       "      <td>2017</td>\n",
       "    </tr>\n",
       "  </tbody>\n",
       "</table>\n",
       "<p>4862 rows × 7 columns</p>\n",
       "</div>"
      ],
      "text/plain": [
       "            Artist         Album            Song  Track_Number  \\\n",
       "0     Taylor Swift  Taylor Swift      Tim McGraw             1   \n",
       "1     Taylor Swift  Taylor Swift      Tim McGraw             1   \n",
       "2     Taylor Swift  Taylor Swift      Tim McGraw             1   \n",
       "3     Taylor Swift  Taylor Swift      Tim McGraw             1   \n",
       "4     Taylor Swift  Taylor Swift      Tim McGraw             1   \n",
       "...            ...           ...             ...           ...   \n",
       "4857  Taylor Swift    reputation  New Year's Day            15   \n",
       "4858  Taylor Swift    reputation  New Year's Day            15   \n",
       "4859  Taylor Swift    reputation  New Year's Day            15   \n",
       "4860  Taylor Swift    reputation  New Year's Day            15   \n",
       "4861  Taylor Swift    reputation  New Year's Day            15   \n",
       "\n",
       "                                                 Lyrics  Line_Number  Year  \n",
       "0                   He said the way my blue eyes shined            1  2006  \n",
       "1           Put those Georgia stars to shame that night            2  2006  \n",
       "2                                I said, \"That's a lie\"            3  2006  \n",
       "3                           Just a boy in a Chevy truck            4  2006  \n",
       "4                  That had a tendency of gettin' stuck            5  2006  \n",
       "...                                                 ...          ...   ...  \n",
       "4857  (Hold on to the memories, they will hold on to...           43  2017  \n",
       "4858                Please don't ever become a stranger           44  2017  \n",
       "4859  (Hold on to the memories, they will hold on to...           45  2017  \n",
       "4860             Whose laugh I could recognize anywhere           46  2017  \n",
       "4861                            (I will hold on to you)           47  2017  \n",
       "\n",
       "[4862 rows x 7 columns]"
      ]
     },
     "execution_count": 77,
     "metadata": {},
     "output_type": "execute_result"
    }
   ],
   "source": [
    "lyrics_dataframe = pd.read_csv(\"taylor_swift_lyrics.csv\")\n",
    "lyrics_dataframe"
   ]
  },
  {
   "cell_type": "markdown",
   "metadata": {},
   "source": [
    "## Initial Data Exploration and Preprocessing\n",
    "Lets poke around at the data and learn about. One of the first things we should probably figure out is how many albums and songs we are looking at"
   ]
  },
  {
   "cell_type": "code",
   "execution_count": 78,
   "metadata": {},
   "outputs": [
    {
     "name": "stdout",
     "output_type": "stream",
     "text": [
      "Number of albums : 6\n",
      "Number of songs  : 94\n"
     ]
    }
   ],
   "source": [
    "# Counting the number of albums\n",
    "num_albums = lyrics_dataframe[\"Album\"].drop_duplicates().size\n",
    "# Counting the number of songs\n",
    "num_songs = lyrics_dataframe[\"Song\"].drop_duplicates().size\n",
    "print(\"Number of albums : \" + str(num_albums))\n",
    "print(\"Number of songs  : \" + str(num_songs))"
   ]
  },
  {
   "cell_type": "markdown",
   "metadata": {},
   "source": [
    "Before we go father, it might be useful to preprocess the lyrics with a function"
   ]
  },
  {
   "cell_type": "code",
   "execution_count": 164,
   "metadata": {},
   "outputs": [],
   "source": [
    "# let's first build a preprocessing function which we can make adjustments to later\n",
    "def preprocessLyric(line):\n",
    "    # Set the line to lowercase\n",
    "    line = line.lower()\n",
    "    # Get rid of the parenthesis\n",
    "    parenthesisopen = re.findall('\\(',line)\n",
    "    parenthesisclose = re.findall('\\)',line)\n",
    "    for i in parenthesisopen:\n",
    "        line = line.replace(i, \"\")\n",
    "    for i in parenthesisclose:\n",
    "        line = line.replace(i,\"\")\n",
    "    # Get rid of quotation marks and apostrophes\n",
    "    quotes = re.findall('\\\"', line)\n",
    "    apostrophes = re.findall(\"\\'\", line)\n",
    "    for i in quotes:\n",
    "        line = line.replace(i,\"\")\n",
    "    for i in apostrophes:\n",
    "        line = line.replace(i,\"\")\n",
    "    # Make sure there is a space between words and punctuation so they dont get combined\n",
    "    punc = re.findall(\"[!,?.]\", line)\n",
    "    for i in punc:\n",
    "        line = line.replace(i,\" \" + i[0] + \" \")\n",
    "    # Just for sanity check let's lastly get rid of the double spaces\n",
    "    line = line.replace(\"  \", \" \")\n",
    "    return line"
   ]
  },
  {
   "cell_type": "code",
   "execution_count": 165,
   "metadata": {},
   "outputs": [
    {
     "data": {
      "text/html": [
       "<div>\n",
       "<style scoped>\n",
       "    .dataframe tbody tr th:only-of-type {\n",
       "        vertical-align: middle;\n",
       "    }\n",
       "\n",
       "    .dataframe tbody tr th {\n",
       "        vertical-align: top;\n",
       "    }\n",
       "\n",
       "    .dataframe thead th {\n",
       "        text-align: right;\n",
       "    }\n",
       "</style>\n",
       "<table border=\"1\" class=\"dataframe\">\n",
       "  <thead>\n",
       "    <tr style=\"text-align: right;\">\n",
       "      <th></th>\n",
       "      <th>Artist</th>\n",
       "      <th>Album</th>\n",
       "      <th>Song</th>\n",
       "      <th>Track_Number</th>\n",
       "      <th>Lyrics</th>\n",
       "      <th>Line_Number</th>\n",
       "      <th>Year</th>\n",
       "    </tr>\n",
       "  </thead>\n",
       "  <tbody>\n",
       "    <tr>\n",
       "      <th>0</th>\n",
       "      <td>Taylor Swift</td>\n",
       "      <td>Taylor Swift</td>\n",
       "      <td>Tim McGraw</td>\n",
       "      <td>1</td>\n",
       "      <td>he said the way my blue eyes shined</td>\n",
       "      <td>1</td>\n",
       "      <td>2006</td>\n",
       "    </tr>\n",
       "    <tr>\n",
       "      <th>1</th>\n",
       "      <td>Taylor Swift</td>\n",
       "      <td>Taylor Swift</td>\n",
       "      <td>Tim McGraw</td>\n",
       "      <td>1</td>\n",
       "      <td>put those georgia stars to shame that night</td>\n",
       "      <td>2</td>\n",
       "      <td>2006</td>\n",
       "    </tr>\n",
       "    <tr>\n",
       "      <th>2</th>\n",
       "      <td>Taylor Swift</td>\n",
       "      <td>Taylor Swift</td>\n",
       "      <td>Tim McGraw</td>\n",
       "      <td>1</td>\n",
       "      <td>i said , thats a lie</td>\n",
       "      <td>3</td>\n",
       "      <td>2006</td>\n",
       "    </tr>\n",
       "    <tr>\n",
       "      <th>3</th>\n",
       "      <td>Taylor Swift</td>\n",
       "      <td>Taylor Swift</td>\n",
       "      <td>Tim McGraw</td>\n",
       "      <td>1</td>\n",
       "      <td>just a boy in a chevy truck</td>\n",
       "      <td>4</td>\n",
       "      <td>2006</td>\n",
       "    </tr>\n",
       "    <tr>\n",
       "      <th>4</th>\n",
       "      <td>Taylor Swift</td>\n",
       "      <td>Taylor Swift</td>\n",
       "      <td>Tim McGraw</td>\n",
       "      <td>1</td>\n",
       "      <td>that had a tendency of gettin stuck</td>\n",
       "      <td>5</td>\n",
       "      <td>2006</td>\n",
       "    </tr>\n",
       "    <tr>\n",
       "      <th>...</th>\n",
       "      <td>...</td>\n",
       "      <td>...</td>\n",
       "      <td>...</td>\n",
       "      <td>...</td>\n",
       "      <td>...</td>\n",
       "      <td>...</td>\n",
       "      <td>...</td>\n",
       "    </tr>\n",
       "    <tr>\n",
       "      <th>4857</th>\n",
       "      <td>Taylor Swift</td>\n",
       "      <td>reputation</td>\n",
       "      <td>New Year's Day</td>\n",
       "      <td>15</td>\n",
       "      <td>hold on to the memories , they will hold on to...</td>\n",
       "      <td>43</td>\n",
       "      <td>2017</td>\n",
       "    </tr>\n",
       "    <tr>\n",
       "      <th>4858</th>\n",
       "      <td>Taylor Swift</td>\n",
       "      <td>reputation</td>\n",
       "      <td>New Year's Day</td>\n",
       "      <td>15</td>\n",
       "      <td>please dont ever become a stranger</td>\n",
       "      <td>44</td>\n",
       "      <td>2017</td>\n",
       "    </tr>\n",
       "    <tr>\n",
       "      <th>4859</th>\n",
       "      <td>Taylor Swift</td>\n",
       "      <td>reputation</td>\n",
       "      <td>New Year's Day</td>\n",
       "      <td>15</td>\n",
       "      <td>hold on to the memories , they will hold on to...</td>\n",
       "      <td>45</td>\n",
       "      <td>2017</td>\n",
       "    </tr>\n",
       "    <tr>\n",
       "      <th>4860</th>\n",
       "      <td>Taylor Swift</td>\n",
       "      <td>reputation</td>\n",
       "      <td>New Year's Day</td>\n",
       "      <td>15</td>\n",
       "      <td>whose laugh i could recognize anywhere</td>\n",
       "      <td>46</td>\n",
       "      <td>2017</td>\n",
       "    </tr>\n",
       "    <tr>\n",
       "      <th>4861</th>\n",
       "      <td>Taylor Swift</td>\n",
       "      <td>reputation</td>\n",
       "      <td>New Year's Day</td>\n",
       "      <td>15</td>\n",
       "      <td>i will hold on to you</td>\n",
       "      <td>47</td>\n",
       "      <td>2017</td>\n",
       "    </tr>\n",
       "  </tbody>\n",
       "</table>\n",
       "<p>4862 rows × 7 columns</p>\n",
       "</div>"
      ],
      "text/plain": [
       "            Artist         Album            Song  Track_Number  \\\n",
       "0     Taylor Swift  Taylor Swift      Tim McGraw             1   \n",
       "1     Taylor Swift  Taylor Swift      Tim McGraw             1   \n",
       "2     Taylor Swift  Taylor Swift      Tim McGraw             1   \n",
       "3     Taylor Swift  Taylor Swift      Tim McGraw             1   \n",
       "4     Taylor Swift  Taylor Swift      Tim McGraw             1   \n",
       "...            ...           ...             ...           ...   \n",
       "4857  Taylor Swift    reputation  New Year's Day            15   \n",
       "4858  Taylor Swift    reputation  New Year's Day            15   \n",
       "4859  Taylor Swift    reputation  New Year's Day            15   \n",
       "4860  Taylor Swift    reputation  New Year's Day            15   \n",
       "4861  Taylor Swift    reputation  New Year's Day            15   \n",
       "\n",
       "                                                 Lyrics  Line_Number  Year  \n",
       "0                   he said the way my blue eyes shined            1  2006  \n",
       "1           put those georgia stars to shame that night            2  2006  \n",
       "2                                  i said , thats a lie            3  2006  \n",
       "3                           just a boy in a chevy truck            4  2006  \n",
       "4                   that had a tendency of gettin stuck            5  2006  \n",
       "...                                                 ...          ...   ...  \n",
       "4857  hold on to the memories , they will hold on to...           43  2017  \n",
       "4858                 please dont ever become a stranger           44  2017  \n",
       "4859  hold on to the memories , they will hold on to...           45  2017  \n",
       "4860             whose laugh i could recognize anywhere           46  2017  \n",
       "4861                              i will hold on to you           47  2017  \n",
       "\n",
       "[4862 rows x 7 columns]"
      ]
     },
     "execution_count": 165,
     "metadata": {},
     "output_type": "execute_result"
    }
   ],
   "source": [
    "# Now let's apply the function to the lyrics\n",
    "lyrics_dataframe[\"Lyrics\"] = lyrics_dataframe[\"Lyrics\"].apply(preprocessLyric)\n",
    "# Let's see our changes\n",
    "lyrics_dataframe"
   ]
  },
  {
   "cell_type": "markdown",
   "metadata": {},
   "source": [
    "Let's combine all the lyrics together to get an array to do some more data exploration"
   ]
  },
  {
   "cell_type": "code",
   "execution_count": 168,
   "metadata": {},
   "outputs": [],
   "source": [
    "# Let's get an array of all the strings\n",
    "all_lyrics = lyrics_dataframe[\"Lyrics\"].array\n",
    "# Now combine them into one large string\n",
    "all_lyrics = \" \".join(all_lyrics)\n",
    "# Make sure there are no double spaces\n",
    "all_lyrics.replace(\"  \", \" \")\n",
    "# Now break it into a list\n",
    "all_lyrics = all_lyrics.split(\" \")\n",
    "# convert to array\n",
    "#all_lyrics = np.asarray(all_lyrics)"
   ]
  },
  {
   "cell_type": "markdown",
   "metadata": {},
   "source": [
    "Let's look at some of the most common words in Taylor Swift's Music"
   ]
  },
  {
   "cell_type": "code",
   "execution_count": 169,
   "metadata": {},
   "outputs": [
    {
     "data": {
      "image/png": "[encoded data removed]",
      "text/plain": [
       "<Figure size 432x288 with 1 Axes>"
      ]
     },
     "metadata": {
      "needs_background": "light"
     },
     "output_type": "display_data"
    }
   ],
   "source": [
    "word_counts = Counter(all_lyrics)\n",
    "word_counts_shortened = dict(word_counts.most_common(10))\n",
    "df = pd.DataFrame.from_dict(word_counts_shortened, orient='index')\n",
    "ax = df.plot(kind='bar', title  = \"Most Used Words in Taylor Swift Songs\")\n",
    "_ = ax.set(xlabel='Word', ylabel='Uses')"
   ]
  },
  {
   "cell_type": "markdown",
   "metadata": {},
   "source": [
    "Hmmm... This doesn't look all too interesting now does it? These are all just really common words. These are also known as stop words. One thing we can do is get rid of all these stop words, something really easy to do if you have a list of stopwords luckily we have stopwords.txt"
   ]
  },
  {
   "cell_type": "code",
   "execution_count": 171,
   "metadata": {},
   "outputs": [
    {
     "data": {
      "image/png": "[encoded data removed]",
      "text/plain": [
       "<Figure size 432x288 with 1 Axes>"
      ]
     },
     "metadata": {
      "needs_background": "light"
     },
     "output_type": "display_data"
    }
   ],
   "source": [
    "# Let's load all the words from the txt\n",
    "file = open('stopwords_en.txt', mode = 'r')\n",
    "stopwords = file.read()\n",
    "file.close()\n",
    "# split them into a list\n",
    "stopwords = stopwords.split('\\n')\n",
    "# remove them from the dictionary\n",
    "for i in stopwords:\n",
    "    if i in word_counts.keys():\n",
    "        word_counts.pop(i)\n",
    "new_word_counts_shortened = dict(word_counts.most_common(20))\n",
    "df = pd.DataFrame.from_dict(new_word_counts_shortened, orient='index')\n",
    "ax = df.plot(kind='bar', title  = \"Most Used Words in Taylor Swift Songs\")\n",
    "_ = ax.set(xlabel='Word', ylabel='Uses')"
   ]
  },
  {
   "cell_type": "markdown",
   "metadata": {},
   "source": [
    "There we go, that looks a lot better. Now this looks a lot more interesting"
   ]
  },
  {
   "cell_type": "code",
   "execution_count": null,
   "metadata": {},
   "outputs": [],
   "source": []
  }
 ],
 "metadata": {
  "kernelspec": {
   "display_name": "Python 3",
   "language": "python",
   "name": "python3"
  },
  "language_info": {
   "codemirror_mode": {
    "name": "ipython",
    "version": 3
   },
   "file_extension": ".py",
   "mimetype": "text/x-python",
   "name": "python",
   "nbconvert_exporter": "python",
   "pygments_lexer": "ipython3",
   "version": "3.8.2"
  }
 },
 "nbformat": 4,
 "nbformat_minor": 4
}
