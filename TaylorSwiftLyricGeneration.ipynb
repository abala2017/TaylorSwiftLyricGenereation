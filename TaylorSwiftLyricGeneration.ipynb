{
 "cells": [
  {
   "cell_type": "markdown",
   "metadata": {},
   "source": [
    "# Taylor Swift Lyric Generation"
   ]
  },
  {
   "cell_type": "code",
   "execution_count": 1,
   "metadata": {},
   "outputs": [
    {
     "name": "stderr",
     "output_type": "stream",
     "text": [
      "Using TensorFlow backend.\n"
     ]
    }
   ],
   "source": [
    "import numpy as np\n",
    "import tensorflow as tf\n",
    "import pandas as pd\n",
    "from keras.preprocessing.text import Tokenizer\n",
    "import re\n",
    "import matplotlib.pyplot as plt\n",
    "from collections import Counter\n",
    "from keras.preprocessing.sequence import pad_sequences\n",
    "from keras.utils import to_categorical\n",
    "from keras.models import Sequential\n",
    "from keras.layers import Dense\n",
    "from keras.layers import Flatten\n",
    "from keras.layers import Embedding\n",
    "from keras.layers import LSTM\n",
    "import keras"
   ]
  },
  {
   "cell_type": "markdown",
   "metadata": {},
   "source": [
    "## Importing the data"
   ]
  },
  {
   "cell_type": "code",
   "execution_count": 2,
   "metadata": {},
   "outputs": [
    {
     "data": {
      "text/html": [
       "<div>\n",
       "<style scoped>\n",
       "    .dataframe tbody tr th:only-of-type {\n",
       "        vertical-align: middle;\n",
       "    }\n",
       "\n",
       "    .dataframe tbody tr th {\n",
       "        vertical-align: top;\n",
       "    }\n",
       "\n",
       "    .dataframe thead th {\n",
       "        text-align: right;\n",
       "    }\n",
       "</style>\n",
       "<table border=\"1\" class=\"dataframe\">\n",
       "  <thead>\n",
       "    <tr style=\"text-align: right;\">\n",
       "      <th></th>\n",
       "      <th>Artist</th>\n",
       "      <th>Album</th>\n",
       "      <th>Song</th>\n",
       "      <th>Track_Number</th>\n",
       "      <th>Lyrics</th>\n",
       "      <th>Line_Number</th>\n",
       "      <th>Year</th>\n",
       "    </tr>\n",
       "  </thead>\n",
       "  <tbody>\n",
       "    <tr>\n",
       "      <th>0</th>\n",
       "      <td>Taylor Swift</td>\n",
       "      <td>Taylor Swift</td>\n",
       "      <td>Tim McGraw</td>\n",
       "      <td>1</td>\n",
       "      <td>He said the way my blue eyes shined</td>\n",
       "      <td>1</td>\n",
       "      <td>2006</td>\n",
       "    </tr>\n",
       "    <tr>\n",
       "      <th>1</th>\n",
       "      <td>Taylor Swift</td>\n",
       "      <td>Taylor Swift</td>\n",
       "      <td>Tim McGraw</td>\n",
       "      <td>1</td>\n",
       "      <td>Put those Georgia stars to shame that night</td>\n",
       "      <td>2</td>\n",
       "      <td>2006</td>\n",
       "    </tr>\n",
       "    <tr>\n",
       "      <th>2</th>\n",
       "      <td>Taylor Swift</td>\n",
       "      <td>Taylor Swift</td>\n",
       "      <td>Tim McGraw</td>\n",
       "      <td>1</td>\n",
       "      <td>I said, \"That's a lie\"</td>\n",
       "      <td>3</td>\n",
       "      <td>2006</td>\n",
       "    </tr>\n",
       "    <tr>\n",
       "      <th>3</th>\n",
       "      <td>Taylor Swift</td>\n",
       "      <td>Taylor Swift</td>\n",
       "      <td>Tim McGraw</td>\n",
       "      <td>1</td>\n",
       "      <td>Just a boy in a Chevy truck</td>\n",
       "      <td>4</td>\n",
       "      <td>2006</td>\n",
       "    </tr>\n",
       "    <tr>\n",
       "      <th>4</th>\n",
       "      <td>Taylor Swift</td>\n",
       "      <td>Taylor Swift</td>\n",
       "      <td>Tim McGraw</td>\n",
       "      <td>1</td>\n",
       "      <td>That had a tendency of gettin' stuck</td>\n",
       "      <td>5</td>\n",
       "      <td>2006</td>\n",
       "    </tr>\n",
       "    <tr>\n",
       "      <th>...</th>\n",
       "      <td>...</td>\n",
       "      <td>...</td>\n",
       "      <td>...</td>\n",
       "      <td>...</td>\n",
       "      <td>...</td>\n",
       "      <td>...</td>\n",
       "      <td>...</td>\n",
       "    </tr>\n",
       "    <tr>\n",
       "      <th>4857</th>\n",
       "      <td>Taylor Swift</td>\n",
       "      <td>reputation</td>\n",
       "      <td>New Year's Day</td>\n",
       "      <td>15</td>\n",
       "      <td>(Hold on to the memories, they will hold on to...</td>\n",
       "      <td>43</td>\n",
       "      <td>2017</td>\n",
       "    </tr>\n",
       "    <tr>\n",
       "      <th>4858</th>\n",
       "      <td>Taylor Swift</td>\n",
       "      <td>reputation</td>\n",
       "      <td>New Year's Day</td>\n",
       "      <td>15</td>\n",
       "      <td>Please don't ever become a stranger</td>\n",
       "      <td>44</td>\n",
       "      <td>2017</td>\n",
       "    </tr>\n",
       "    <tr>\n",
       "      <th>4859</th>\n",
       "      <td>Taylor Swift</td>\n",
       "      <td>reputation</td>\n",
       "      <td>New Year's Day</td>\n",
       "      <td>15</td>\n",
       "      <td>(Hold on to the memories, they will hold on to...</td>\n",
       "      <td>45</td>\n",
       "      <td>2017</td>\n",
       "    </tr>\n",
       "    <tr>\n",
       "      <th>4860</th>\n",
       "      <td>Taylor Swift</td>\n",
       "      <td>reputation</td>\n",
       "      <td>New Year's Day</td>\n",
       "      <td>15</td>\n",
       "      <td>Whose laugh I could recognize anywhere</td>\n",
       "      <td>46</td>\n",
       "      <td>2017</td>\n",
       "    </tr>\n",
       "    <tr>\n",
       "      <th>4861</th>\n",
       "      <td>Taylor Swift</td>\n",
       "      <td>reputation</td>\n",
       "      <td>New Year's Day</td>\n",
       "      <td>15</td>\n",
       "      <td>(I will hold on to you)</td>\n",
       "      <td>47</td>\n",
       "      <td>2017</td>\n",
       "    </tr>\n",
       "  </tbody>\n",
       "</table>\n",
       "<p>4862 rows × 7 columns</p>\n",
       "</div>"
      ],
      "text/plain": [
       "            Artist         Album            Song  Track_Number  \\\n",
       "0     Taylor Swift  Taylor Swift      Tim McGraw             1   \n",
       "1     Taylor Swift  Taylor Swift      Tim McGraw             1   \n",
       "2     Taylor Swift  Taylor Swift      Tim McGraw             1   \n",
       "3     Taylor Swift  Taylor Swift      Tim McGraw             1   \n",
       "4     Taylor Swift  Taylor Swift      Tim McGraw             1   \n",
       "...            ...           ...             ...           ...   \n",
       "4857  Taylor Swift    reputation  New Year's Day            15   \n",
       "4858  Taylor Swift    reputation  New Year's Day            15   \n",
       "4859  Taylor Swift    reputation  New Year's Day            15   \n",
       "4860  Taylor Swift    reputation  New Year's Day            15   \n",
       "4861  Taylor Swift    reputation  New Year's Day            15   \n",
       "\n",
       "                                                 Lyrics  Line_Number  Year  \n",
       "0                   He said the way my blue eyes shined            1  2006  \n",
       "1           Put those Georgia stars to shame that night            2  2006  \n",
       "2                                I said, \"That's a lie\"            3  2006  \n",
       "3                           Just a boy in a Chevy truck            4  2006  \n",
       "4                  That had a tendency of gettin' stuck            5  2006  \n",
       "...                                                 ...          ...   ...  \n",
       "4857  (Hold on to the memories, they will hold on to...           43  2017  \n",
       "4858                Please don't ever become a stranger           44  2017  \n",
       "4859  (Hold on to the memories, they will hold on to...           45  2017  \n",
       "4860             Whose laugh I could recognize anywhere           46  2017  \n",
       "4861                            (I will hold on to you)           47  2017  \n",
       "\n",
       "[4862 rows x 7 columns]"
      ]
     },
     "execution_count": 2,
     "metadata": {},
     "output_type": "execute_result"
    }
   ],
   "source": [
    "lyrics_dataframe = pd.read_csv(\"taylor_swift_lyrics.csv\")\n",
    "lyrics_dataframe"
   ]
  },
  {
   "cell_type": "markdown",
   "metadata": {},
   "source": [
    "## Initial Data Exploration and Preprocessing\n",
    "Lets poke around at the data and learn about. One of the first things we should probably figure out is how many albums and songs we are looking at"
   ]
  },
  {
   "cell_type": "code",
   "execution_count": 3,
   "metadata": {},
   "outputs": [
    {
     "name": "stdout",
     "output_type": "stream",
     "text": [
      "Number of albums : 6\n",
      "Number of songs  : 94\n"
     ]
    }
   ],
   "source": [
    "# Counting the number of albums\n",
    "num_albums = lyrics_dataframe[\"Album\"].drop_duplicates().size\n",
    "# Counting the number of songs\n",
    "num_songs = lyrics_dataframe[\"Song\"].drop_duplicates().size\n",
    "print(\"Number of albums : \" + str(num_albums))\n",
    "print(\"Number of songs  : \" + str(num_songs))"
   ]
  },
  {
   "cell_type": "markdown",
   "metadata": {},
   "source": [
    "Before we go father, it might be useful to preprocess the lyrics with a function"
   ]
  },
  {
   "cell_type": "code",
   "execution_count": 4,
   "metadata": {},
   "outputs": [],
   "source": [
    "# let's first build a preprocessing function which we can make adjustments to later\n",
    "def preprocessLyric(line):\n",
    "    # Set the line to lowercase\n",
    "    line = line.lower()\n",
    "    # Get rid of the parenthesis\n",
    "    parenthesisopen = re.findall('\\(',line)\n",
    "    parenthesisclose = re.findall('\\)',line)\n",
    "    for i in parenthesisopen:\n",
    "        line = line.replace(i, \"\")\n",
    "    for i in parenthesisclose:\n",
    "        line = line.replace(i,\"\")\n",
    "    # Get rid of quotation marks and apostrophes\n",
    "    quotes = re.findall('\\\"', line)\n",
    "    apostrophes = re.findall(\"\\'\", line)\n",
    "    for i in quotes:\n",
    "        line = line.replace(i,\"\")\n",
    "    for i in apostrophes:\n",
    "        line = line.replace(i,\"\")\n",
    "    # Make sure there is a space between words and punctuation so they dont get combined\n",
    "    punc = re.findall(\"[!,?.]\", line)\n",
    "    for i in punc:\n",
    "        line = line.replace(i,\" \" + i[0] + \" \")\n",
    "    # Just for sanity check let's lastly get rid of the double spaces\n",
    "    line = line.replace(\"  \", \" \")\n",
    "    return line"
   ]
  },
  {
   "cell_type": "code",
   "execution_count": 5,
   "metadata": {},
   "outputs": [
    {
     "data": {
      "text/html": [
       "<div>\n",
       "<style scoped>\n",
       "    .dataframe tbody tr th:only-of-type {\n",
       "        vertical-align: middle;\n",
       "    }\n",
       "\n",
       "    .dataframe tbody tr th {\n",
       "        vertical-align: top;\n",
       "    }\n",
       "\n",
       "    .dataframe thead th {\n",
       "        text-align: right;\n",
       "    }\n",
       "</style>\n",
       "<table border=\"1\" class=\"dataframe\">\n",
       "  <thead>\n",
       "    <tr style=\"text-align: right;\">\n",
       "      <th></th>\n",
       "      <th>Artist</th>\n",
       "      <th>Album</th>\n",
       "      <th>Song</th>\n",
       "      <th>Track_Number</th>\n",
       "      <th>Lyrics</th>\n",
       "      <th>Line_Number</th>\n",
       "      <th>Year</th>\n",
       "    </tr>\n",
       "  </thead>\n",
       "  <tbody>\n",
       "    <tr>\n",
       "      <th>0</th>\n",
       "      <td>Taylor Swift</td>\n",
       "      <td>Taylor Swift</td>\n",
       "      <td>Tim McGraw</td>\n",
       "      <td>1</td>\n",
       "      <td>he said the way my blue eyes shined</td>\n",
       "      <td>1</td>\n",
       "      <td>2006</td>\n",
       "    </tr>\n",
       "    <tr>\n",
       "      <th>1</th>\n",
       "      <td>Taylor Swift</td>\n",
       "      <td>Taylor Swift</td>\n",
       "      <td>Tim McGraw</td>\n",
       "      <td>1</td>\n",
       "      <td>put those georgia stars to shame that night</td>\n",
       "      <td>2</td>\n",
       "      <td>2006</td>\n",
       "    </tr>\n",
       "    <tr>\n",
       "      <th>2</th>\n",
       "      <td>Taylor Swift</td>\n",
       "      <td>Taylor Swift</td>\n",
       "      <td>Tim McGraw</td>\n",
       "      <td>1</td>\n",
       "      <td>i said , thats a lie</td>\n",
       "      <td>3</td>\n",
       "      <td>2006</td>\n",
       "    </tr>\n",
       "    <tr>\n",
       "      <th>3</th>\n",
       "      <td>Taylor Swift</td>\n",
       "      <td>Taylor Swift</td>\n",
       "      <td>Tim McGraw</td>\n",
       "      <td>1</td>\n",
       "      <td>just a boy in a chevy truck</td>\n",
       "      <td>4</td>\n",
       "      <td>2006</td>\n",
       "    </tr>\n",
       "    <tr>\n",
       "      <th>4</th>\n",
       "      <td>Taylor Swift</td>\n",
       "      <td>Taylor Swift</td>\n",
       "      <td>Tim McGraw</td>\n",
       "      <td>1</td>\n",
       "      <td>that had a tendency of gettin stuck</td>\n",
       "      <td>5</td>\n",
       "      <td>2006</td>\n",
       "    </tr>\n",
       "    <tr>\n",
       "      <th>...</th>\n",
       "      <td>...</td>\n",
       "      <td>...</td>\n",
       "      <td>...</td>\n",
       "      <td>...</td>\n",
       "      <td>...</td>\n",
       "      <td>...</td>\n",
       "      <td>...</td>\n",
       "    </tr>\n",
       "    <tr>\n",
       "      <th>4857</th>\n",
       "      <td>Taylor Swift</td>\n",
       "      <td>reputation</td>\n",
       "      <td>New Year's Day</td>\n",
       "      <td>15</td>\n",
       "      <td>hold on to the memories , they will hold on to...</td>\n",
       "      <td>43</td>\n",
       "      <td>2017</td>\n",
       "    </tr>\n",
       "    <tr>\n",
       "      <th>4858</th>\n",
       "      <td>Taylor Swift</td>\n",
       "      <td>reputation</td>\n",
       "      <td>New Year's Day</td>\n",
       "      <td>15</td>\n",
       "      <td>please dont ever become a stranger</td>\n",
       "      <td>44</td>\n",
       "      <td>2017</td>\n",
       "    </tr>\n",
       "    <tr>\n",
       "      <th>4859</th>\n",
       "      <td>Taylor Swift</td>\n",
       "      <td>reputation</td>\n",
       "      <td>New Year's Day</td>\n",
       "      <td>15</td>\n",
       "      <td>hold on to the memories , they will hold on to...</td>\n",
       "      <td>45</td>\n",
       "      <td>2017</td>\n",
       "    </tr>\n",
       "    <tr>\n",
       "      <th>4860</th>\n",
       "      <td>Taylor Swift</td>\n",
       "      <td>reputation</td>\n",
       "      <td>New Year's Day</td>\n",
       "      <td>15</td>\n",
       "      <td>whose laugh i could recognize anywhere</td>\n",
       "      <td>46</td>\n",
       "      <td>2017</td>\n",
       "    </tr>\n",
       "    <tr>\n",
       "      <th>4861</th>\n",
       "      <td>Taylor Swift</td>\n",
       "      <td>reputation</td>\n",
       "      <td>New Year's Day</td>\n",
       "      <td>15</td>\n",
       "      <td>i will hold on to you</td>\n",
       "      <td>47</td>\n",
       "      <td>2017</td>\n",
       "    </tr>\n",
       "  </tbody>\n",
       "</table>\n",
       "<p>4862 rows × 7 columns</p>\n",
       "</div>"
      ],
      "text/plain": [
       "            Artist         Album            Song  Track_Number  \\\n",
       "0     Taylor Swift  Taylor Swift      Tim McGraw             1   \n",
       "1     Taylor Swift  Taylor Swift      Tim McGraw             1   \n",
       "2     Taylor Swift  Taylor Swift      Tim McGraw             1   \n",
       "3     Taylor Swift  Taylor Swift      Tim McGraw             1   \n",
       "4     Taylor Swift  Taylor Swift      Tim McGraw             1   \n",
       "...            ...           ...             ...           ...   \n",
       "4857  Taylor Swift    reputation  New Year's Day            15   \n",
       "4858  Taylor Swift    reputation  New Year's Day            15   \n",
       "4859  Taylor Swift    reputation  New Year's Day            15   \n",
       "4860  Taylor Swift    reputation  New Year's Day            15   \n",
       "4861  Taylor Swift    reputation  New Year's Day            15   \n",
       "\n",
       "                                                 Lyrics  Line_Number  Year  \n",
       "0                   he said the way my blue eyes shined            1  2006  \n",
       "1           put those georgia stars to shame that night            2  2006  \n",
       "2                                  i said , thats a lie            3  2006  \n",
       "3                           just a boy in a chevy truck            4  2006  \n",
       "4                   that had a tendency of gettin stuck            5  2006  \n",
       "...                                                 ...          ...   ...  \n",
       "4857  hold on to the memories , they will hold on to...           43  2017  \n",
       "4858                 please dont ever become a stranger           44  2017  \n",
       "4859  hold on to the memories , they will hold on to...           45  2017  \n",
       "4860             whose laugh i could recognize anywhere           46  2017  \n",
       "4861                              i will hold on to you           47  2017  \n",
       "\n",
       "[4862 rows x 7 columns]"
      ]
     },
     "execution_count": 5,
     "metadata": {},
     "output_type": "execute_result"
    }
   ],
   "source": [
    "# Now let's apply the function to the lyrics\n",
    "lyrics_dataframe[\"Lyrics\"] = lyrics_dataframe[\"Lyrics\"].apply(preprocessLyric)\n",
    "# Let's see our changes\n",
    "lyrics_dataframe"
   ]
  },
  {
   "cell_type": "markdown",
   "metadata": {},
   "source": [
    "Let's combine all the lyrics together to get an array to do some more data exploration"
   ]
  },
  {
   "cell_type": "code",
   "execution_count": 6,
   "metadata": {},
   "outputs": [],
   "source": [
    "# Let's get an array of all the strings\n",
    "all_lyrics = lyrics_dataframe[\"Lyrics\"].array\n",
    "# Now combine them into one large string\n",
    "all_lyrics = \" \".join(all_lyrics)\n",
    "# Make sure there are no double spaces\n",
    "all_lyrics.replace(\"  \", \" \")\n",
    "# Now break it into a list\n",
    "all_lyrics = all_lyrics.split(\" \")\n",
    "# convert to array\n",
    "#all_lyrics = np.asarray(all_lyrics)"
   ]
  },
  {
   "cell_type": "markdown",
   "metadata": {},
   "source": [
    "Let's look at some of the most common words in Taylor Swift's Music"
   ]
  },
  {
   "cell_type": "code",
   "execution_count": 7,
   "metadata": {},
   "outputs": [
    {
     "data": {
      "image/png": "[encoded data removed]",
      "text/plain": [
       "<Figure size 432x288 with 1 Axes>"
      ]
     },
     "metadata": {
      "needs_background": "light"
     },
     "output_type": "display_data"
    }
   ],
   "source": [
    "word_counts = Counter(all_lyrics)\n",
    "word_counts_shortened = dict(word_counts.most_common(10))\n",
    "df = pd.DataFrame.from_dict(word_counts_shortened, orient='index')\n",
    "ax = df.plot(kind='bar', title  = \"Most Used Words in Taylor Swift Songs\")\n",
    "_ = ax.set(xlabel='Word', ylabel='Uses')"
   ]
  },
  {
   "cell_type": "markdown",
   "metadata": {},
   "source": [
    "Hmmm... This doesn't look all too interesting now does it? These are all just really common words. These are also known as stop words. One thing we can do is get rid of all these stop words, something really easy to do if you have a list of stopwords luckily we have stopwords.txt"
   ]
  },
  {
   "cell_type": "code",
   "execution_count": 8,
   "metadata": {},
   "outputs": [
    {
     "data": {
      "image/png": "[encoded data removed]",
      "text/plain": [
       "<Figure size 432x288 with 1 Axes>"
      ]
     },
     "metadata": {
      "needs_background": "light"
     },
     "output_type": "display_data"
    }
   ],
   "source": [
    "# Let's load all the words from the txt\n",
    "file = open('stopwords_en.txt', mode = 'r')\n",
    "stopwords = file.read()\n",
    "file.close()\n",
    "# split them into a list\n",
    "stopwords = stopwords.split('\\n')\n",
    "# remove them from the dictionary\n",
    "for i in stopwords:\n",
    "    if i in word_counts.keys():\n",
    "        word_counts.pop(i)\n",
    "# plot the frequency once more\n",
    "new_word_counts_shortened = dict(word_counts.most_common(20))\n",
    "df = pd.DataFrame.from_dict(new_word_counts_shortened, orient='index')\n",
    "ax = df.plot(kind='bar', title  = \"Most Used Words in Taylor Swift Songs\")\n",
    "_ = ax.set(xlabel='Word', ylabel='Uses')"
   ]
  },
  {
   "cell_type": "markdown",
   "metadata": {},
   "source": [
    "There we go, that looks a lot better. Now this looks a lot more interesting"
   ]
  },
  {
   "cell_type": "markdown",
   "metadata": {},
   "source": [
    "## Model Building\n",
    "Let's start building the model, first we are going to need to tokenize our input"
   ]
  },
  {
   "cell_type": "code",
   "execution_count": 9,
   "metadata": {},
   "outputs": [],
   "source": [
    "# First we converted the series dataframe to a numpy\n",
    "lyrics = lyrics_dataframe[\"Lyrics\"].to_numpy()\n",
    "# create the tokenizer\n",
    "tokenizer = Tokenizer()\n",
    "# fits the input to the text, ie the most common words closer to 0 and more obscure being farther away\n",
    "tokenizer.fit_on_texts(lyrics)\n",
    "# converts the input to token indicies\n",
    "lyric_tokens = tokenizer.texts_to_sequences(lyrics)\n",
    "# get largest list of words\n",
    "maxLen = max([len(s.split()) for s in lyrics])\n",
    "# padding so all inputs are the same size, padding at the end\n",
    "lyric_tokens_pad = pad_sequences(lyric_tokens, maxlen = maxLen, padding = 'post')"
   ]
  },
  {
   "cell_type": "markdown",
   "metadata": {},
   "source": [
    "Next we are going to create our labels which is going to just be the exact same as the input, except one moved to the left"
   ]
  },
  {
   "cell_type": "code",
   "execution_count": 10,
   "metadata": {},
   "outputs": [],
   "source": [
    "# set the label = input\n",
    "label = lyric_tokens_pad\n",
    "# delete the first index of each array\n",
    "#label = np.delete(label,0,1)\n",
    "# add a zero to the end\n",
    "#label = np.append(label,np.zeros((label.shape[0],1)), axis = 1)"
   ]
  },
  {
   "cell_type": "markdown",
   "metadata": {},
   "source": [
    "Next we load in the embedding vectors for the words so the model knows what the words mean a bit better"
   ]
  },
  {
   "cell_type": "code",
   "execution_count": 11,
   "metadata": {},
   "outputs": [],
   "source": [
    "# ##Loading in Embedding dims  dimensional\n",
    "# dims = 50\n",
    "# embeddings = {}\n",
    "# dims = 200 # either 25, 50, 100, or 200\n",
    "# with open(\"glove.6B/glove.6B.\" + str(dims) + \"d.txt\", encoding = \"utf8\")  as file:\n",
    "# # Word Embeddings gotten from the twitter pre-trained vector at https://nlp.stanford.edu/projects/glove/\n",
    "#     for line in file:\n",
    "#         word, coefficients = line.split(maxsplit = 1)\n",
    "#         coefficients = coefficients.split(\" \")\n",
    "#         coefficients = np.array(coefficients, dtype=np.float32)\n",
    "#         embeddings[word] = coefficients"
   ]
  },
  {
   "cell_type": "markdown",
   "metadata": {},
   "source": [
    "Now we make the embedding matrix using our vectors"
   ]
  },
  {
   "cell_type": "code",
   "execution_count": 12,
   "metadata": {},
   "outputs": [],
   "source": [
    "# #time to make the embedding matrix\n",
    "# #instantiate embedding matrix of zeroes\n",
    "# embedding_matrix = np.zeros((len(tokenizer.word_index)+1, dims))\n",
    "# #go through each word in the token list\n",
    "# for word, i in tokenizer.word_index.items():\n",
    "#     #get the corresponding embedding vector (if it exists)\n",
    "#     embedding_vector = embeddings.get(word)\n",
    "#     #check if its not none\n",
    "#     if embedding_vector is not None:\n",
    "#         #add that to the embedding matrix\n",
    "#         embedding_matrix[i] = embedding_vector"
   ]
  },
  {
   "cell_type": "code",
   "execution_count": 13,
   "metadata": {},
   "outputs": [],
   "source": [
    "class My_Custom_Generator(keras.utils.Sequence) :\n",
    "    \n",
    "    def __init__(self, lyric_indices, label_indices, num_words, batch_size) :\n",
    "        self.lyric_indices = lyric_indices\n",
    "        self.label_indices = label_indices\n",
    "        self.num_words = num_words\n",
    "        self.batch_size = batch_size\n",
    "        \n",
    "    def __len__(self) :\n",
    "        return (np.ceil((self.lyric_indices.shape[0]) / float(self.batch_size))).astype(np.int)\n",
    "    \n",
    "    def __getitem__(self, idx) :\n",
    "        batch_x = self.lyric_indices[idx * self.batch_size : (idx+1) * self.batch_size]\n",
    "        batch_y = self.label_indices[idx * self.batch_size : (idx+1) * self.batch_size]\n",
    "        return (to_categorical(batch_x,num_classes = num_words), to_categorical(batch_y,num_classes = num_words))"
   ]
  },
  {
   "cell_type": "code",
   "execution_count": 14,
   "metadata": {},
   "outputs": [],
   "source": [
    "batch_size = 10\n",
    "num_words = len(tokenizer.get_config()[\"word_counts\"])\n",
    "label = np.delete(lyric_tokens_pad,0,0)\n",
    "lyric_tokens_pad = np.delete(lyric_tokens_pad,lyric_tokens_pad.shape[0]-1,0)\n",
    "training_batch_generator = My_Custom_Generator(lyric_tokens_pad, label, num_words, batch_size)"
   ]
  },
  {
   "cell_type": "code",
   "execution_count": 18,
   "metadata": {},
   "outputs": [
    {
     "name": "stdout",
     "output_type": "stream",
     "text": [
      "Model: \"sequential_3\"\n",
      "_________________________________________________________________\n",
      "Layer (type)                 Output Shape              Param #   \n",
      "=================================================================\n",
      "lstm_4 (LSTM)                (None, 21, 21)            2621472   \n",
      "_________________________________________________________________\n",
      "lstm_5 (LSTM)                (None, 21, 21)            3612      \n",
      "_________________________________________________________________\n",
      "dense_3 (Dense)              (None, 21, 210)           4620      \n",
      "_________________________________________________________________\n",
      "dense_4 (Dense)              (None, 21, 31186)         6580246   \n",
      "=================================================================\n",
      "Total params: 9,209,950\n",
      "Trainable params: 9,209,950\n",
      "Non-trainable params: 0\n",
      "_________________________________________________________________\n"
     ]
    }
   ],
   "source": [
    "LineGenModel = Sequential()\n",
    "LineGenModel.add(\n",
    "    LSTM(\n",
    "        units = maxLen,\n",
    "        return_sequences = True,\n",
    "        input_shape = (maxLen,num_words)\n",
    "    )\n",
    ")\n",
    "LineGenModel.add(\n",
    "    LSTM(\n",
    "        units = maxLen,\n",
    "        return_sequences = True,\n",
    "        input_shape = (maxLen,num_words)\n",
    "    )\n",
    ")\n",
    "LineGenModel.add(\n",
    "    Dense(\n",
    "        maxLen * 10,\n",
    "        activation = 'softmax'\n",
    "    )\n",
    ")\n",
    "LineGenModel.add(\n",
    "    Dense(\n",
    "        num_words,\n",
    "        activation = 'softmax'\n",
    "    )\n",
    ")\n",
    "LineGenModel.compile(optimizer=\"adam\", loss='categorical_crossentropy', metrics=['accuracy'])\n",
    "LineGenModel.build((maxLen,num_words))\n",
    "LineGenModel.summary()"
   ]
  },
  {
   "cell_type": "code",
   "execution_count": 19,
   "metadata": {},
   "outputs": [
    {
     "name": "stdout",
     "output_type": "stream",
     "text": [
      "Epoch 1/10\n",
      "487/487 [==============================] - 367s 754ms/step - loss: 9.3407\n",
      "Epoch 2/10\n",
      "487/487 [==============================] - 345s 709ms/step - loss: 7.5364\n",
      "Epoch 3/10\n",
      "487/487 [==============================] - 397s 815ms/step - loss: 6.1638\n",
      "Epoch 4/10\n",
      "487/487 [==============================] - 427s 877ms/step - loss: 5.0395\n",
      "Epoch 5/10\n",
      "487/487 [==============================] - 375s 770ms/step - loss: 4.1304\n",
      "Epoch 6/10\n",
      "487/487 [==============================] - 424s 871ms/step - loss: 3.4504\n",
      "Epoch 7/10\n",
      "487/487 [==============================] - 416s 854ms/step - loss: 3.0388\n",
      "Epoch 8/10\n",
      "487/487 [==============================] - 392s 805ms/step - loss: 2.8499\n",
      "Epoch 9/10\n",
      "487/487 [==============================] - 436s 895ms/step - loss: 2.7756\n",
      "Epoch 10/10\n",
      "487/487 [==============================] - 455s 934ms/step - loss: 2.7261\n"
     ]
    },
    {
     "data": {
      "text/plain": [
       "<keras.callbacks.callbacks.History at 0x2dc5a880e80>"
      ]
     },
     "execution_count": 19,
     "metadata": {},
     "output_type": "execute_result"
    }
   ],
   "source": [
    "LineGenModel.fit(x = training_batch_generator,epochs = 10)"
   ]
  },
  {
   "cell_type": "code",
   "execution_count": 22,
   "metadata": {},
   "outputs": [
    {
     "data": {
      "text/plain": [
       "array([191, 7, 21, 5, 75, 98, 45, 23, 66, 78, 59, 10, 37, 24, 80, 0, 0, 0, 0, 0, 0],\n",
       "      dtype=int64)"
      ]
     },
     "execution_count": 22,
     "metadata": {},
     "output_type": "execute_result"
    }
   ],
   "source": [
    "cat = to_categorical(lyric_tokens_pad[1],num_words).reshape((1,21,31186))\n",
    "prediction = LineGenModel.predict(cat)[0]\n",
    "np.argmax(prediction,axis = 1)"
   ]
  },
  {
   "cell_type": "code",
   "execution_count": null,
   "metadata": {},
   "outputs": [],
   "source": []
  }
 ],
 "metadata": {
  "kernelspec": {
   "display_name": "Python 3",
   "language": "python",
   "name": "python3"
  },
  "language_info": {
   "codemirror_mode": {
    "name": "ipython",
    "version": 3
   },
   "file_extension": ".py",
   "mimetype": "text/x-python",
   "name": "python",
   "nbconvert_exporter": "python",
   "pygments_lexer": "ipython3",
   "version": "3.8.2"
  }
 },
 "nbformat": 4,
 "nbformat_minor": 4
}
